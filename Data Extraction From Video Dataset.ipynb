{
 "cells": [
  {
   "cell_type": "markdown",
   "id": "34eb9c57",
   "metadata": {},
   "source": [
    "#### Importing Libraries"
   ]
  },
  {
   "cell_type": "code",
   "execution_count": 1,
   "id": "5f2ece2c",
   "metadata": {},
   "outputs": [],
   "source": [
    "import cv2\n",
    "import numpy as np\n",
    "import os\n",
    "from matplotlib import pyplot as plt\n",
    "import time\n",
    "import mediapipe as mp"
   ]
  },
  {
   "cell_type": "markdown",
   "id": "b526d82b",
   "metadata": {},
   "source": [
    "#### Functions for pose detection "
   ]
  },
  {
   "cell_type": "code",
   "execution_count": 2,
   "id": "b0f0ea7c",
   "metadata": {},
   "outputs": [],
   "source": [
    "mp_holistic = mp.solutions.holistic # Holistic model\n",
    "mp_drawing = mp.solutions.drawing_utils # Drawing utilities\n",
    "\n",
    "def mediapipe_detection(image, model):\n",
    "    image = cv2.cvtColor(image, cv2.COLOR_BGR2RGB)\n",
    "    image.flags.writeable = False\n",
    "    results = model.process(image)\n",
    "    image.flags.writeable = True\n",
    "    image = cv2.cvtColor(image, cv2.COLOR_RGB2BGR)\n",
    "    return image, results\n",
    "\n",
    "def draw_landmarks(image, results):\n",
    "\n",
    "    mp_drawing.draw_landmarks(image, results.pose_landmarks, mp_holistic.POSE_CONNECTIONS) # Draw pose connections\n",
    "\n",
    "def draw_styled_landmarks(image, results):\n",
    "\n",
    "    # Draw pose connections\n",
    "    mp_drawing.draw_landmarks(image, results.pose_landmarks, mp_holistic.POSE_CONNECTIONS,\n",
    "                             mp_drawing.DrawingSpec(color=(80,22,10), thickness=2, circle_radius=4), \n",
    "                             mp_drawing.DrawingSpec(color=(80,44,121), thickness=2, circle_radius=2)\n",
    "                             ) \n",
    "    \n",
    "def extract_keypoints(results):\n",
    "    pose = np.array([[res.x, res.y, res.z, res.visibility] for res in results.pose_landmarks.landmark]).flatten() if results.pose_landmarks else np.zeros(33*4)\n",
    "    \n",
    "    return pose"
   ]
  },
  {
   "cell_type": "markdown",
   "id": "5d4f12b2",
   "metadata": {},
   "source": [
    "#### Extracting ans storing data from video dataset\n",
    "\n",
    "This file must be in the same folder where video dataset is stored."
   ]
  },
  {
   "cell_type": "code",
   "execution_count": 3,
   "id": "2204978f",
   "metadata": {},
   "outputs": [],
   "source": [
    "DATA_PATH = os.path.join('Yoga_Pose_Final') \n",
    "actions = np.array(['Warrior1'])   #change the name for other label or make a function for all lavels\n",
    "no_sequences = 10\n",
    "sequence_length = 5 \n",
    "start_folder = 6\n",
    "\n",
    "for i in range(5):\n",
    "    for action in actions: \n",
    "        for sequence in range(no_sequences):\n",
    "            try: \n",
    "                os.makedirs(os.path.join(DATA_PATH, action, str(i+25), str(sequence)))\n",
    "            except:\n",
    "                pass\n",
    "    file_name = str(i+1) + '.mp4'\n",
    "    cap = cv2.VideoCapture(file_name)\n",
    "    # Set mediapipe model \n",
    "    image_list = []\n",
    "    with mp_holistic.Holistic(min_detection_confidence=0.5, min_tracking_confidence=0.5) as holistic:\n",
    "        for action in actions:\n",
    "            for sequence in range(no_sequences):\n",
    "                for frame_num in range(sequence_length):\n",
    "                    ret, frame = cap.read()\n",
    "                    image, results = mediapipe_detection(frame, holistic)\n",
    "                    image_list.append(image)\n",
    "                    draw_styled_landmarks(image, results)\n",
    "                    if frame_num == 0: \n",
    "                        cv2.imshow('OpenCV Feed', image_list[frame_num])\n",
    "                        cv2.waitKey(10) #frame per 0.05 sec\n",
    "                    else: \n",
    "                        cv2.imshow('OpenCV Feed', image_list[frame_num])\n",
    "                    keypoints = extract_keypoints(results)\n",
    "                    npy_path = os.path.join(DATA_PATH, action, str(i+25), str(sequence), str(frame_num))\n",
    "                    np.save(npy_path, keypoints)\n",
    "                    if cv2.waitKey(10) & 0xFF == ord('q'):  # Break gracefully\n",
    "                        break\n",
    "        cap.release()\n",
    "        cv2.destroyAllWindows()"
   ]
  }
 ],
 "metadata": {
  "kernelspec": {
   "display_name": "Python 3 (ipykernel)",
   "language": "python",
   "name": "python3"
  },
  "language_info": {
   "codemirror_mode": {
    "name": "ipython",
    "version": 3
   },
   "file_extension": ".py",
   "mimetype": "text/x-python",
   "name": "python",
   "nbconvert_exporter": "python",
   "pygments_lexer": "ipython3",
   "version": "3.10.2"
  }
 },
 "nbformat": 4,
 "nbformat_minor": 5
}
